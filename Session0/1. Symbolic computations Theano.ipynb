{
 "cells": [
  {
   "cell_type": "markdown",
   "metadata": {
    "slideshow": {
     "slide_type": "slide"
    }
   },
   "source": [
    "# <center>Deep Learning</center>\n",
    "\n",
    "<br><br><br><br><br>\n",
    "\n",
    "## <center> Symbolic computations </center>\n",
    "### <center> with theano </center>\n",
    "\n",
    "<br><br>\n",
    "\n",
    "#### <center>Mikhail Usvyatsov</center>\n",
    "\n",
    "\n",
    "##### Thanks to Alexander Panin, Victor Lempitsky, and Dmitry Vetrov for the materials taken from their courses in Deep Learning"
   ]
  },
  {
   "cell_type": "markdown",
   "metadata": {
    "slideshow": {
     "slide_type": "slide"
    }
   },
   "source": [
    "### Conventional computation"
   ]
  },
  {
   "cell_type": "code",
   "execution_count": 1,
   "metadata": {
    "collapsed": true
   },
   "outputs": [],
   "source": [
    "x = 5"
   ]
  },
  {
   "cell_type": "code",
   "execution_count": 2,
   "metadata": {
    "collapsed": true
   },
   "outputs": [],
   "source": [
    "y = x * 2 - 4"
   ]
  },
  {
   "cell_type": "markdown",
   "metadata": {
    "slideshow": {
     "slide_type": "slide"
    }
   },
   "source": [
    "## Symbolic computation\n",
    "\n",
    "![](../imgs/symbolic_graph.png)\n",
    "\n",
    "1. You define the graph, that solves the problem you need\n",
    "2. You provide the graph with the input\n",
    "\n",
    "e.g.\n",
    "\n",
    "`x = 5`\n",
    "\n",
    "or \n",
    "\n",
    "`x = 5 * np.ones(100)`"
   ]
  },
  {
   "cell_type": "markdown",
   "metadata": {
    "slideshow": {
     "slide_type": "slide"
    }
   },
   "source": [
    "## Theano\n",
    "\n",
    "Is a Python library that allows to perform symbolic computations.\n",
    "\n",
    "Some important features:\n",
    "\n",
    "* use of GPU for computations\n",
    "* symbolic graph optimization\n",
    "\n",
    "### It allows:\n",
    "* Symbolically define mathematical functions\n",
    "    * Automatically derive gradient expressions\n",
    "* Compile expressions into executable functions\n",
    "    * theano.function([input params], output)\n",
    "* Execute expression"
   ]
  },
  {
   "cell_type": "markdown",
   "metadata": {
    "slideshow": {
     "slide_type": "slide"
    }
   },
   "source": [
    "## Datatypes\n",
    "\n",
    "* Scalars\n",
    "* Vectors\n",
    "* Matrices\n",
    "* Tensors"
   ]
  },
  {
   "cell_type": "markdown",
   "metadata": {
    "slideshow": {
     "slide_type": "slide"
    }
   },
   "source": [
    "## Theano math"
   ]
  },
  {
   "cell_type": "code",
   "execution_count": 4,
   "metadata": {
    "collapsed": true,
    "slideshow": {
     "slide_type": "subslide"
    }
   },
   "outputs": [],
   "source": [
    "# Scalars\n",
    "\n",
    "import theano\n",
    "import theano.tensor as T\n",
    "\n",
    "# Note that theano is fully typed\n",
    "x = T.scalar()\n",
    "y = T.scalar()\n",
    "\n",
    "z = x + y\n",
    "w = z * x\n",
    "a = T.sqrt(w)\n",
    "b = T.exp(a)\n",
    "c = a ** b\n",
    "d = T.log(c)"
   ]
  },
  {
   "cell_type": "code",
   "execution_count": 5,
   "metadata": {
    "collapsed": true,
    "slideshow": {
     "slide_type": "subslide"
    }
   },
   "outputs": [],
   "source": [
    "# Vectors\n",
    "\n",
    "import theano\n",
    "import theano.tensor as T\n",
    "\n",
    "x = T.vector()\n",
    "y = T.vector()\n",
    "# Scalar math applied elementwise\n",
    "a = x * y\n",
    "# vector dot product\n",
    "b = T.dot(x, y)"
   ]
  },
  {
   "cell_type": "code",
   "execution_count": 6,
   "metadata": {
    "collapsed": true,
    "slideshow": {
     "slide_type": "subslide"
    }
   },
   "outputs": [],
   "source": [
    "# Matrix\n",
    "\n",
    "import theano\n",
    "import theano.tensor as T\n",
    "\n",
    "x = T.matrix()\n",
    "y = T.matrix()\n",
    "a = T.vector()\n",
    "# Matrix-matrix product\n",
    "b = T.dot(x, y)\n",
    "# Matrix-vector product\n",
    "c = T.dot(x, a)"
   ]
  },
  {
   "cell_type": "markdown",
   "metadata": {
    "slideshow": {
     "slide_type": "slide"
    }
   },
   "source": [
    "## Theano functions"
   ]
  },
  {
   "cell_type": "code",
   "execution_count": 8,
   "metadata": {},
   "outputs": [
    {
     "data": {
      "text/plain": [
       "array(3.0)"
      ]
     },
     "execution_count": 8,
     "metadata": {},
     "output_type": "execute_result"
    }
   ],
   "source": [
    "import theano\n",
    "import theano.tensor as T\n",
    "\n",
    "x = T.scalar()\n",
    "y = T.scalar()\n",
    "\n",
    "# first arg is list of SYMBOLIC inputs\n",
    "# second arg is SYMBOLIC output\n",
    "f = theano.function([x, y], x + y)\n",
    "# Call it with NUMERICAL values\n",
    "# Get a NUMERICAL output\n",
    "f(1., 2.) # => 3.0"
   ]
  },
  {
   "cell_type": "markdown",
   "metadata": {
    "slideshow": {
     "slide_type": "slide"
    }
   },
   "source": [
    "## Shared Variables\n",
    "\n",
    "A “shared variable” is a buffer that stores a numerical value for a theano variable\n",
    "* Think it as a global variable\n",
    "* Modify numerical value with set_value\n",
    "* Read numerical value with get_value"
   ]
  },
  {
   "cell_type": "code",
   "execution_count": 14,
   "metadata": {},
   "outputs": [
    {
     "name": "stdout",
     "output_type": "stream",
     "text": [
      "1.0\n",
      "101.0\n"
     ]
    }
   ],
   "source": [
    "import theano\n",
    "import theano.tensor as T\n",
    "from collections import OrderedDict\n",
    "\n",
    "x = theano.shared(0.)\n",
    "\n",
    "updates = OrderedDict([(x, x + 1)])\n",
    "\n",
    "f = theano.function([], updates=updates)\n",
    "f() # updates\n",
    "print(x.get_value())\n",
    "x.set_value(100.)\n",
    "f() # updates\n",
    "print(x.get_value())"
   ]
  },
  {
   "cell_type": "markdown",
   "metadata": {
    "slideshow": {
     "slide_type": "slide"
    }
   },
   "source": [
    "## Some cool stuff\n",
    "\n",
    "* `theano.grad` - gradients computations\n",
    "* `theano.scan` - loops programming"
   ]
  },
  {
   "cell_type": "markdown",
   "metadata": {
    "slideshow": {
     "slide_type": "slide"
    }
   },
   "source": [
    "## Thank you\n",
    "<center>\n",
    "<img src=\"https://sd.keepcalm-o-matic.co.uk/i/keep-calm-and-lets-code-9.png\" style=\"width: 400px\">"
   ]
  }
 ],
 "metadata": {
  "celltoolbar": "Slideshow",
  "kernelspec": {
   "display_name": "Python 3",
   "language": "python",
   "name": "python3"
  },
  "language_info": {
   "codemirror_mode": {
    "name": "ipython",
    "version": 3
   },
   "file_extension": ".py",
   "mimetype": "text/x-python",
   "name": "python",
   "nbconvert_exporter": "python",
   "pygments_lexer": "ipython3",
   "version": "3.5.2"
  }
 },
 "nbformat": 4,
 "nbformat_minor": 2
}
