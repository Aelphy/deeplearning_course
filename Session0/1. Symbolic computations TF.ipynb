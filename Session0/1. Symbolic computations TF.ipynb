{
 "cells": [
  {
   "cell_type": "markdown",
   "metadata": {
    "slideshow": {
     "slide_type": "slide"
    }
   },
   "source": [
    "# <center>Deep Learning</center>\n",
    "\n",
    "<br><br><br><br><br>\n",
    "\n",
    "## <center> Symbolic computations </center>\n",
    "### <center> with tensorflow </center>\n",
    "\n",
    "<br><br>\n",
    "\n",
    "#### <center>Mikhail Usvyatsov</center>\n",
    "\n",
    "\n",
    "##### Thanks to Alexander Panin, Victor Lempitsky, and Dmitry Vetrov for the materials taken from their courses in Deep Learning"
   ]
  },
  {
   "cell_type": "markdown",
   "metadata": {
    "slideshow": {
     "slide_type": "slide"
    }
   },
   "source": [
    "### Conventional computation"
   ]
  },
  {
   "cell_type": "code",
   "execution_count": 1,
   "metadata": {
    "collapsed": true
   },
   "outputs": [],
   "source": [
    "x = 5"
   ]
  },
  {
   "cell_type": "code",
   "execution_count": 2,
   "metadata": {
    "collapsed": true
   },
   "outputs": [],
   "source": [
    "y = x * 2 - 4"
   ]
  },
  {
   "cell_type": "markdown",
   "metadata": {
    "slideshow": {
     "slide_type": "slide"
    }
   },
   "source": [
    "## Symbolic computation\n",
    "\n",
    "![](../imgs/symbolic_graph.png)\n",
    "\n",
    "1. You define the graph, that solves the problem you need\n",
    "2. You provide the graph with the input\n",
    "\n",
    "e.g.\n",
    "\n",
    "`x = 5`\n",
    "\n",
    "or \n",
    "\n",
    "`x = 5 * np.ones(100)`"
   ]
  },
  {
   "cell_type": "markdown",
   "metadata": {
    "slideshow": {
     "slide_type": "slide"
    }
   },
   "source": [
    "## Tensorflow\n",
    "\n",
    "Is a library that allows to perform symbolic computations.\n",
    "\n",
    "Some important features:\n",
    "\n",
    "* use of GPU for computations\n",
    "\n",
    "### It allows:\n",
    "* Symbolically define mathematical functions\n",
    "    * Automatically derive gradient expressions\n",
    "* Execute expression"
   ]
  },
  {
   "cell_type": "markdown",
   "metadata": {
    "slideshow": {
     "slide_type": "slide"
    }
   },
   "source": [
    "## Datatypes\n",
    "\n",
    "* Variable\n",
    "* constant\n",
    "* placeholder"
   ]
  },
  {
   "cell_type": "markdown",
   "metadata": {
    "slideshow": {
     "slide_type": "slide"
    }
   },
   "source": [
    "## Tensorflow math"
   ]
  },
  {
   "cell_type": "code",
   "execution_count": 3,
   "metadata": {
    "slideshow": {
     "slide_type": "subslide"
    }
   },
   "outputs": [],
   "source": [
    "import tensorflow as tf\n",
    "\n",
    "# Note that tensorflow is fully typed\n",
    "x = tf.placeholder(tf.float32)\n",
    "y = tf.placeholder(tf.float32)\n",
    "\n",
    "z = x + y\n",
    "w = z * x\n",
    "a = tf.sqrt(w)\n",
    "b = tf.exp(a)\n",
    "c = a ** b\n",
    "d = tf.log(c)"
   ]
  },
  {
   "cell_type": "markdown",
   "metadata": {
    "slideshow": {
     "slide_type": "slide"
    }
   },
   "source": [
    "## Tensorflow graph execution"
   ]
  },
  {
   "cell_type": "code",
   "execution_count": 4,
   "metadata": {},
   "outputs": [
    {
     "data": {
      "text/plain": [
       "3.0"
      ]
     },
     "execution_count": 4,
     "metadata": {},
     "output_type": "execute_result"
    }
   ],
   "source": [
    "import tensorflow as tf\n",
    "\n",
    "def f(a, b):\n",
    "    x = tf.placeholder(tf.float32)\n",
    "    y = tf.placeholder(tf.float32)\n",
    "\n",
    "    with tf.Session() as session:\n",
    "        # first arg is SYMBOLIC output\n",
    "        # second arg is dict of SYMBOLIC inputs\n",
    "        return session.run(x + y, {x : a,y : b})\n",
    "\n",
    "# Call it with NUMERICAL values\n",
    "# Get a NUMERICAL output\n",
    "f(1., 2.) # => 3.0"
   ]
  },
  {
   "cell_type": "markdown",
   "metadata": {
    "slideshow": {
     "slide_type": "slide"
    }
   },
   "source": [
    "## Shared Variables\n",
    "\n",
    "A “shared variable” is a buffer that stores a numerical value for a theano variable\n",
    "* Think it as a global variable\n",
    "* Modify numerical value with set_value\n",
    "* Read numerical value with get_value"
   ]
  },
  {
   "cell_type": "code",
   "execution_count": 14,
   "metadata": {},
   "outputs": [
    {
     "name": "stdout",
     "output_type": "stream",
     "text": [
      "1.0\n",
      "101.0\n"
     ]
    }
   ],
   "source": [
    "import theano\n",
    "import theano.tensor as T\n",
    "from collections import OrderedDict\n",
    "\n",
    "x = theano.shared(0.)\n",
    "\n",
    "updates = OrderedDict([(x, x + 1)])\n",
    "\n",
    "f = theano.function([], updates=updates)\n",
    "f() # updates\n",
    "print(x.get_value())\n",
    "x.set_value(100.)\n",
    "f() # updates\n",
    "print(x.get_value())"
   ]
  },
  {
   "cell_type": "markdown",
   "metadata": {
    "slideshow": {
     "slide_type": "slide"
    }
   },
   "source": [
    "## Some cool stuff\n",
    "\n",
    "* `tf.gradients` - gradients computations"
   ]
  },
  {
   "cell_type": "markdown",
   "metadata": {
    "slideshow": {
     "slide_type": "slide"
    }
   },
   "source": [
    "## Thank you\n",
    "<center>\n",
    "<img src=\"https://sd.keepcalm-o-matic.co.uk/i/keep-calm-and-lets-code-9.png\" style=\"width: 400px\">"
   ]
  }
 ],
 "metadata": {
  "celltoolbar": "Slideshow",
  "kernelspec": {
   "display_name": "Python 3",
   "language": "python",
   "name": "python3"
  },
  "language_info": {
   "codemirror_mode": {
    "name": "ipython",
    "version": 3
   },
   "file_extension": ".py",
   "mimetype": "text/x-python",
   "name": "python",
   "nbconvert_exporter": "python",
   "pygments_lexer": "ipython3",
   "version": "3.5.2"
  }
 },
 "nbformat": 4,
 "nbformat_minor": 2
}
