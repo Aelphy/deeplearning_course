{
 "cells": [
  {
   "cell_type": "markdown",
   "metadata": {
    "slideshow": {
     "slide_type": "slide"
    }
   },
   "source": [
    "# <center>Deep Learning</center>\n",
    "\n",
    "<br><br><br><br><br>\n",
    "\n",
    "## <center> Cooking Neural Networks </center>\n",
    "### <center>with Lasagne</center>\n",
    "\n",
    "<br><br>\n",
    "\n",
    "#### <center>Mikhail Usvyatsov</center>\n",
    "\n",
    "\n",
    "##### Thanks to Alexander Panin, Victor Lempitsky, and Dmitry Vetrov for the materials taken from their courses in Deep Learning"
   ]
  },
  {
   "cell_type": "markdown",
   "metadata": {
    "slideshow": {
     "slide_type": "slide"
    }
   },
   "source": [
    "## Phrasebook\n",
    "\n",
    "* A Layer - a building block of NNs:\n",
    "    * \"DenseLayer()\" - f(x) = Wx + b\n",
    "    * \"NonlinearityLayer()\" - f(x) = $\\sigma(x)$\n",
    "    * \"InputLayer\", \"OutputLayer\"\n",
    "    * \"DropoutLayer\" ![](http://neuralnetworksanddeeplearning.com/images/tikz31.png)\n",
    "    * A few more we gonna cover latter\n",
    "* Activation - layer output\n",
    "    * i.e. some intermediate signal in NN\n",
    "* Backpropogation - a fancy word for \"chain rule\""
   ]
  },
  {
   "cell_type": "markdown",
   "metadata": {
    "slideshow": {
     "slide_type": "slide"
    }
   },
   "source": [
    "![](http://i.imgur.com/KsOeduv.png)"
   ]
  },
  {
   "cell_type": "markdown",
   "metadata": {
    "slideshow": {
     "slide_type": "subslide"
    }
   },
   "source": [
    "![](http://i.imgur.com/KsOeduv.png)"
   ]
  },
  {
   "cell_type": "code",
   "execution_count": null,
   "metadata": {
    "collapsed": true
   },
   "outputs": [],
   "source": [
    "import lasagne\n",
    "from lasagne.layers import InputLayer, DenseLayer\n",
    "\n",
    "l_in = InputLayer(shape=X.shape)\n",
    "l_hidden = DenseLayer(l_in, num_units=10, nonlinearity=tanh)\n",
    "l_output = DenseLayer(l_hidden, num_units=N_CLASSES, nonlinearity=softmax)"
   ]
  },
  {
   "cell_type": "markdown",
   "metadata": {
    "slideshow": {
     "slide_type": "slide"
    }
   },
   "source": [
    "![](http://i.imgur.com/k32Ob5U.png)"
   ]
  },
  {
   "cell_type": "markdown",
   "metadata": {
    "slideshow": {
     "slide_type": "subslide"
    }
   },
   "source": [
    "![](http://i.imgur.com/k32Ob5U.png)"
   ]
  },
  {
   "cell_type": "code",
   "execution_count": null,
   "metadata": {
    "collapsed": true
   },
   "outputs": [],
   "source": [
    "net_output = lasagne.layers.get_output(l_output)"
   ]
  },
  {
   "cell_type": "markdown",
   "metadata": {
    "slideshow": {
     "slide_type": "slide"
    }
   },
   "source": [
    "![](http://i.imgur.com/2kPwN5L.png)"
   ]
  },
  {
   "cell_type": "markdown",
   "metadata": {
    "slideshow": {
     "slide_type": "subslide"
    }
   },
   "source": [
    "![](http://i.imgur.com/2kPwN5L.png)"
   ]
  },
  {
   "cell_type": "code",
   "execution_count": null,
   "metadata": {
    "collapsed": true
   },
   "outputs": [],
   "source": [
    "true_output = T.vector(’true_output’)\n",
    "loss = lasagne.objectives.categorical_crossentropy(net_output, true_output).mean()"
   ]
  },
  {
   "cell_type": "markdown",
   "metadata": {
    "slideshow": {
     "slide_type": "slide"
    }
   },
   "source": [
    "![](http://i.imgur.com/kaVbU6P.png)"
   ]
  },
  {
   "cell_type": "markdown",
   "metadata": {
    "slideshow": {
     "slide_type": "subslide"
    }
   },
   "source": [
    "![](http://i.imgur.com/kaVbU6P.png)"
   ]
  },
  {
   "cell_type": "code",
   "execution_count": null,
   "metadata": {
    "collapsed": true
   },
   "outputs": [],
   "source": [
    "all_params = lasagne.layers.get_all_params(l_output)\n",
    "updates = lasagne.updates.sgd(loss, all_params, learning_rate=0.01)"
   ]
  },
  {
   "cell_type": "markdown",
   "metadata": {
    "slideshow": {
     "slide_type": "slide"
    }
   },
   "source": [
    "![](http://i.imgur.com/PUiPpSX.png)"
   ]
  },
  {
   "cell_type": "markdown",
   "metadata": {
    "slideshow": {
     "slide_type": "subslide"
    }
   },
   "source": [
    "![](http://i.imgur.com/PUiPpSX.png)"
   ]
  },
  {
   "cell_type": "code",
   "execution_count": null,
   "metadata": {
    "collapsed": true
   },
   "outputs": [],
   "source": [
    "train = theano.function([l_in.input_var, true_output], loss, updates=updates)\n",
    "get_output = theano.function([l_in.input_var], net_output)\n",
    "\n",
    "for n in xrange(num_epoches):\n",
    "    train(X, y)"
   ]
  },
  {
   "cell_type": "markdown",
   "metadata": {
    "slideshow": {
     "slide_type": "slide"
    }
   },
   "source": [
    "## Potential caveats ?"
   ]
  },
  {
   "cell_type": "markdown",
   "metadata": {
    "slideshow": {
     "slide_type": "subslide"
    }
   },
   "source": [
    "## Potential caveats ?\n",
    "\n",
    "* Hardcore overfitting\n",
    "* No \"golden standard\" for architecture\n",
    "* Computationaly heavy"
   ]
  },
  {
   "cell_type": "markdown",
   "metadata": {
    "slideshow": {
     "slide_type": "slide"
    }
   },
   "source": [
    "![](http://www.huhmagazine.co.uk/images/uploaded/nike_justdoit_00.jpg)"
   ]
  }
 ],
 "metadata": {
  "celltoolbar": "Slideshow",
  "kernelspec": {
   "display_name": "Python 3",
   "language": "python",
   "name": "python3"
  },
  "language_info": {
   "codemirror_mode": {
    "name": "ipython",
    "version": 3
   },
   "file_extension": ".py",
   "mimetype": "text/x-python",
   "name": "python",
   "nbconvert_exporter": "python",
   "pygments_lexer": "ipython3",
   "version": "3.5.2"
  }
 },
 "nbformat": 4,
 "nbformat_minor": 2
}
